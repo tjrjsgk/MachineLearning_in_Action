{
 "cells": [
  {
   "cell_type": "code",
   "execution_count": null,
   "metadata": {
    "collapsed": true
   },
   "outputs": [],
   "source": [
    "classList = [example[-1] for example in dataSet]\n",
    "if classList.count(classList[0]) == len(classList):\n",
    "    print(classList[0])\n",
    "else:\n",
    "    bestFeat = chooseBestFeatureToSplit(myDat)\n",
    "    bestFeatLabel = labels[bestFeat]\n",
    "    myTree = {bestFeatLabel:{}}\n",
    "    del(llabel[bestFeat])\n",
    "    fearValues = [example[bestFeat] for example in myDat]\n",
    "    uniqueVals = set(featValues) # set() 함수 : 유니크한 값을 반환함\n",
    "    for value in uniqueVals:\n",
    "        subLabels = labels[:]\n",
    "        myTree[bestFeatLAbel][value] = createTree(splitDataSet(myDat,bestFeat, value), subLabel)\n",
    "    return myTree"
   ]
  }
 ],
 "metadata": {
  "kernelspec": {
   "display_name": "Python 2",
   "language": "python",
   "name": "python2"
  },
  "language_info": {
   "codemirror_mode": {
    "name": "ipython",
    "version": 2
   },
   "file_extension": ".py",
   "mimetype": "text/x-python",
   "name": "python",
   "nbconvert_exporter": "python",
   "pygments_lexer": "ipython2",
   "version": "2.7.11"
  }
 },
 "nbformat": 4,
 "nbformat_minor": 0
}
