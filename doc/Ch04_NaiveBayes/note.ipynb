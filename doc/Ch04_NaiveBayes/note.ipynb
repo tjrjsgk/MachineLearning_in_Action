{
 "cells": [
  {
   "cell_type": "markdown",
   "metadata": {},
   "source": [
    "* naive => 확률 간 독립을 가정\n",
    "* Bayes는 명목 데이터 뿐만 아니라 연속 데이터에 대해서도 사용 가능\n",
    "* 연속 데이터는 가우시안 분포를 이용하여 분류\n",
    "* 이 때, 사전확률도 분포함수를 이용하여 설정할 수 있음 (*conjugate prior)"
   ]
  },
  {
   "cell_type": "code",
   "execution_count": 23,
   "metadata": {
    "collapsed": true
   },
   "outputs": [],
   "source": [
    "def loadDataSet():\n",
    "    postingList=[['my', 'dog', 'has', 'flea', 'problems', 'help', 'please'],\n",
    "                 ['maybe', 'not', 'take', 'him', 'to', 'dog', 'park', 'stupid'],\n",
    "                 ['my', 'dalmation', 'is', 'so', 'cute', 'I', 'love', 'him'],\n",
    "                 ['stop', 'posting', 'stupid', 'worthless', 'garbage'],\n",
    "                 ['mr', 'licks', 'ate', 'my', 'steak', 'how', 'to', 'stop', 'him'],\n",
    "                 ['quit', 'buying', 'wothless', 'dog', 'food', 'stupid']]\n",
    "    # NLP(자연어 처리) => stopwords(a, an, 이모티콘 등) 제거\n",
    "    \n",
    "    classVec = [0,1,0,1,0,1] # 1:폭력적인, 0:폭력적이지 않음\n",
    "    return postingList, classVec\n",
    "\n",
    "\n",
    "def createVocabList(dataSet):\n",
    "    vocabSet = set([])\n",
    "    for document in dataSet:\n",
    "        vocabSet = vocabSet | set(document)\n",
    "    return list(vocabSet)\n",
    "\n",
    "\n",
    "def setOfWords2Vec(vocabList, inputSet):\n",
    "    returnVec = [0]*len(vocabList) # returnVec를 NLP전공용어로 word vector(\"bag of words\")라고함.\n",
    "    for word in inputSet:\n",
    "        if word in vocabList:\n",
    "            returnVec[vocabList.index(word)] = 1\n",
    "        else:\n",
    "            print \"the word: %s is not in my Vocabulary!\" % word\n",
    "        return returnVec"
   ]
  },
  {
   "cell_type": "code",
   "execution_count": 39,
   "metadata": {
    "collapsed": false
   },
   "outputs": [
    {
     "name": "stdout",
     "output_type": "stream",
     "text": [
      "0\n"
     ]
    }
   ],
   "source": [
    "from numpy import *\n",
    "\n",
    "def trainNB0(trainMatrix, trainCategory) :\n",
    "    numTrainDoc = len(trainMatrix)\n",
    "    numWords = len(trainMatrix[0])\n",
    "    \n",
    "    pAbusive = sum(trainCategory) / float(numTrainDoc)\n",
    "    p0Num = zeros(numWords); p1Num = zeros(numWords)\n",
    "    p0Denum = 0.0; p1Denum = 0.0;\n",
    "    for i in range (numTrainDoc) :\n",
    "        if trainCategory[i] == 1:\n",
    "            p1Num += trainMatrix[i]\n",
    "            p1Denum += sum(trainMatrix[i])\n",
    "        else:\n",
    "            p0Num += trainMatrix[i]\n",
    "            p0Denum += sum(trainMatrix[i])  \n",
    "    \n",
    "    p1Vect = p1Num / p1Denum\n",
    "    p0Vect = p0Num / p0Denum\n",
    "    \n",
    "    return p0Vect, p1Vect, pAbusive\n",
    "    \n",
    "def classifyNB(vec2Classify, p0Vec, p1Vec, pClass1):\n",
    "    p1 = sum(vec2Classify * p1Vec) + log(pClass1)\n",
    "    p0 = sum(vec2Classify * p0Vec) + log(1.0 - pClass1)\n",
    "    if p1 > p0:\n",
    "        return 1\n",
    "    else:\n",
    "        return 0\n",
    "\n",
    "listOPosts, listClasses = loadDataSet()\n",
    "\n",
    "myVocabList = createVocabList(listOPosts)\n",
    "\n",
    "trainMat = []\n",
    "for postinDoc in listOPosts:\n",
    "    temp = setOfWords2Vec(myVocabList, postinDoc)\n",
    "    trainMat.append(temp)\n",
    "    \n",
    "p0V, p1V, pAb = trainNB0(trainMat, listClasses)\n",
    "\n",
    "testDoc = ['stupid', 'dalmation', 'garbage']\n",
    "testSet = array(setOfWords2Vec(myVocabList, testDoc))\n",
    "\n",
    "print classifyNB(testSet, p0V, p1V, pAb)"
   ]
  },
  {
   "cell_type": "code",
   "execution_count": null,
   "metadata": {
    "collapsed": true
   },
   "outputs": [],
   "source": []
  }
 ],
 "metadata": {
  "kernelspec": {
   "display_name": "Python 2",
   "language": "python",
   "name": "python2"
  },
  "language_info": {
   "codemirror_mode": {
    "name": "ipython",
    "version": 2
   },
   "file_extension": ".py",
   "mimetype": "text/x-python",
   "name": "python",
   "nbconvert_exporter": "python",
   "pygments_lexer": "ipython2",
   "version": "2.7.11"
  }
 },
 "nbformat": 4,
 "nbformat_minor": 0
}
