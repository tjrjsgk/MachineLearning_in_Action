{
 "cells": [
  {
   "cell_type": "markdown",
   "metadata": {},
   "source": [
    "* training set를 수집할 때도 실험자의 개입을 줄이고, 랜덤성을 가져야 한다.\n",
    "\n",
    "* 정서가 없는 문장의 경우 실험자의 주관적 판단으로 제외하는 것이 아니라 사전 연구 방법 절차에 따라 처리해야 함\n",
    "\n",
    "* 가설을 세운 후 단어에 대한 \"operationalization\" 과정이 필요함. ex) 한국인이라 하면 한국땅에 사는 사람만? 한국에서 태어난 사람?\n",
    "\n",
    "* 필터링 할 단어 => \"stop words\""
   ]
  }
 ],
 "metadata": {
  "kernelspec": {
   "display_name": "Python 2",
   "language": "python",
   "name": "python2"
  },
  "language_info": {
   "codemirror_mode": {
    "name": "ipython",
    "version": 2
   },
   "file_extension": ".py",
   "mimetype": "text/x-python",
   "name": "python",
   "nbconvert_exporter": "python",
   "pygments_lexer": "ipython2",
   "version": "2.7.11"
  }
 },
 "nbformat": 4,
 "nbformat_minor": 0
}
