{
 "cells": [
  {
   "cell_type": "code",
   "execution_count": 46,
   "metadata": {
    "collapsed": false,
    "scrolled": true
   },
   "outputs": [
    {
     "name": "stdout",
     "output_type": "stream",
     "text": [
      "mean: 1000.000000\n",
      "standard deviation: 30.809090\n",
      "variance: 949.200000\n"
     ]
    },
    {
     "data": {
      "image/png": "[encoded data removed]",
      "text/plain": [
       "<matplotlib.figure.Figure at 0x767d128>"
      ]
     },
     "metadata": {},
     "output_type": "display_data"
    }
   ],
   "source": [
    "import numpy as np\n",
    "import matplotlib\n",
    "import matplotlib.pyplot as plt\n",
    "%matplotlib inline\n",
    "\n",
    "\n",
    "# 난수 생성\n",
    "def createRandomDataSet(n):\n",
    "    dataSet = [0, 0, 0, 0, 0, 0, 0, 0, 0, 0]\n",
    "    for i in range(n):\n",
    "        n = int(np.random.randint(0, 10))\n",
    "        dataSet[n] += 1\n",
    "    return np.array(dataSet)\n",
    "\n",
    "\n",
    "# 그래프 생성\n",
    "def drawPlot(dataSet):\n",
    "    x = np.arange(10)\n",
    "    plt.bar(x, dataSet)\n",
    "    plt.xticks(list(range(0,10)))\n",
    "    plt.xlabel('number')\n",
    "    plt.ylabel('frequency')\n",
    "    plt.grid()\n",
    "    plt.show()\n",
    "    \n",
    "    \n",
    "# Random 함수 통계분석\n",
    "def randomTest():\n",
    "    n = 10000\n",
    "    dataSet = createRandomDataSet(n)\n",
    "\n",
    "    mean = dataSet.mean()\n",
    "    sd = dataSet.std()\n",
    "    var = dataSet.var()\n",
    "    \n",
    "    print \"mean: %f\" % mean\n",
    "    print \"standard deviation: %f\" % sd\n",
    "    print \"variance: %f\" % var\n",
    "    \n",
    "    drawPlot(dataSet)\n",
    "       \n",
    "\n",
    "randomTest()\n"
   ]
  }
 ],
 "metadata": {
  "kernelspec": {
   "display_name": "Python 2",
   "language": "python",
   "name": "python2"
  },
  "language_info": {
   "codemirror_mode": {
    "name": "ipython",
    "version": 2
   },
   "file_extension": ".py",
   "mimetype": "text/x-python",
   "name": "python",
   "nbconvert_exporter": "python",
   "pygments_lexer": "ipython2",
   "version": "2.7.11"
  }
 },
 "nbformat": 4,
 "nbformat_minor": 0
}
